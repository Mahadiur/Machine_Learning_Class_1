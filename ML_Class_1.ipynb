{
 "cells": [
  {
   "cell_type": "markdown",
   "id": "a7a249b3",
   "metadata": {},
   "source": [
    "### Machine Learning Class 1"
   ]
  },
  {
   "cell_type": "code",
   "execution_count": 68,
   "id": "64c6662f",
   "metadata": {},
   "outputs": [],
   "source": [
    "''' Import all library '''\n",
    "import pandas as pd\n",
    "import numpy as np\n",
    "import os "
   ]
  },
  {
   "cell_type": "code",
   "execution_count": 69,
   "id": "6051a906",
   "metadata": {},
   "outputs": [
    {
     "data": {
      "text/html": [
       "<div>\n",
       "<style scoped>\n",
       "    .dataframe tbody tr th:only-of-type {\n",
       "        vertical-align: middle;\n",
       "    }\n",
       "\n",
       "    .dataframe tbody tr th {\n",
       "        vertical-align: top;\n",
       "    }\n",
       "\n",
       "    .dataframe thead th {\n",
       "        text-align: right;\n",
       "    }\n",
       "</style>\n",
       "<table border=\"1\" class=\"dataframe\">\n",
       "  <thead>\n",
       "    <tr style=\"text-align: right;\">\n",
       "      <th></th>\n",
       "      <th>area</th>\n",
       "      <th>price</th>\n",
       "    </tr>\n",
       "  </thead>\n",
       "  <tbody>\n",
       "    <tr>\n",
       "      <th>0</th>\n",
       "      <td>7420</td>\n",
       "      <td>13300000</td>\n",
       "    </tr>\n",
       "    <tr>\n",
       "      <th>1</th>\n",
       "      <td>8960</td>\n",
       "      <td>12250000</td>\n",
       "    </tr>\n",
       "    <tr>\n",
       "      <th>2</th>\n",
       "      <td>9960</td>\n",
       "      <td>12250000</td>\n",
       "    </tr>\n",
       "    <tr>\n",
       "      <th>3</th>\n",
       "      <td>7500</td>\n",
       "      <td>12215000</td>\n",
       "    </tr>\n",
       "    <tr>\n",
       "      <th>4</th>\n",
       "      <td>7420</td>\n",
       "      <td>11410000</td>\n",
       "    </tr>\n",
       "  </tbody>\n",
       "</table>\n",
       "</div>"
      ],
      "text/plain": [
       "   area     price\n",
       "0  7420  13300000\n",
       "1  8960  12250000\n",
       "2  9960  12250000\n",
       "3  7500  12215000\n",
       "4  7420  11410000"
      ]
     },
     "execution_count": 69,
     "metadata": {},
     "output_type": "execute_result"
    }
   ],
   "source": [
    "''' Dataset Path '''\n",
    "\n",
    "Root_Path = 'C:\\\\Users\\\\mdmes\\\\OneDrive\\\\Desktop\\\\Pandas Data'\n",
    "Data_Path = os.path.join(Root_Path, 'house_data.csv')\n",
    "\n",
    "house_data=pd.read_csv(\n",
    "    Data_Path \n",
    ")\n",
    "\n",
    "house_data.head()"
   ]
  },
  {
   "cell_type": "markdown",
   "id": "b1dfac82",
   "metadata": {},
   "source": [
    "### Step-1: Parameter / Weight initialization"
   ]
  },
  {
   "cell_type": "code",
   "execution_count": 70,
   "id": "7a86b0f2",
   "metadata": {},
   "outputs": [
    {
     "name": "stdout",
     "output_type": "stream",
     "text": [
      "485007\n",
      "965426\n"
     ]
    }
   ],
   "source": [
    "per_score_price = np.random.randint(1,1000000)\n",
    "registration_cost = np.random.randint(1,1000000)\n",
    "\n",
    "print(per_score_price)\n",
    "print(registration_cost)"
   ]
  },
  {
   "cell_type": "markdown",
   "id": "21d848bb",
   "metadata": {},
   "source": [
    "### Step-2: Define ML Algoritham"
   ]
  },
  {
   "cell_type": "code",
   "execution_count": 71,
   "id": "1a6263f8",
   "metadata": {},
   "outputs": [
    {
     "data": {
      "text/plain": [
       "3599717366"
      ]
     },
     "execution_count": 71,
     "metadata": {},
     "output_type": "execute_result"
    }
   ],
   "source": [
    "def house_price(area, per_score_price, registration_cost):\n",
    "    predict_price = (area * per_score_price) + registration_cost\n",
    "    return predict_price\n",
    "\n",
    "house_price(\n",
    "    area=7420,\n",
    "    per_score_price=per_score_price,\n",
    "    registration_cost=registration_cost\n",
    ")"
   ]
  },
  {
   "cell_type": "markdown",
   "id": "9ccd97f4",
   "metadata": {},
   "source": [
    "### Step-3: Predict the result"
   ]
  },
  {
   "cell_type": "code",
   "execution_count": 72,
   "id": "3680e31b",
   "metadata": {},
   "outputs": [
    {
     "data": {
      "text/html": [
       "<div>\n",
       "<style scoped>\n",
       "    .dataframe tbody tr th:only-of-type {\n",
       "        vertical-align: middle;\n",
       "    }\n",
       "\n",
       "    .dataframe tbody tr th {\n",
       "        vertical-align: top;\n",
       "    }\n",
       "\n",
       "    .dataframe thead th {\n",
       "        text-align: right;\n",
       "    }\n",
       "</style>\n",
       "<table border=\"1\" class=\"dataframe\">\n",
       "  <thead>\n",
       "    <tr style=\"text-align: right;\">\n",
       "      <th></th>\n",
       "      <th>area</th>\n",
       "      <th>price</th>\n",
       "      <th>Predicted_Price</th>\n",
       "    </tr>\n",
       "  </thead>\n",
       "  <tbody>\n",
       "    <tr>\n",
       "      <th>0</th>\n",
       "      <td>7420</td>\n",
       "      <td>13300000</td>\n",
       "      <td>3599717366</td>\n",
       "    </tr>\n",
       "    <tr>\n",
       "      <th>1</th>\n",
       "      <td>8960</td>\n",
       "      <td>12250000</td>\n",
       "      <td>4346628146</td>\n",
       "    </tr>\n",
       "    <tr>\n",
       "      <th>2</th>\n",
       "      <td>9960</td>\n",
       "      <td>12250000</td>\n",
       "      <td>4831635146</td>\n",
       "    </tr>\n",
       "    <tr>\n",
       "      <th>3</th>\n",
       "      <td>7500</td>\n",
       "      <td>12215000</td>\n",
       "      <td>3638517926</td>\n",
       "    </tr>\n",
       "    <tr>\n",
       "      <th>4</th>\n",
       "      <td>7420</td>\n",
       "      <td>11410000</td>\n",
       "      <td>3599717366</td>\n",
       "    </tr>\n",
       "  </tbody>\n",
       "</table>\n",
       "</div>"
      ],
      "text/plain": [
       "   area     price  Predicted_Price\n",
       "0  7420  13300000       3599717366\n",
       "1  8960  12250000       4346628146\n",
       "2  9960  12250000       4831635146\n",
       "3  7500  12215000       3638517926\n",
       "4  7420  11410000       3599717366"
      ]
     },
     "execution_count": 72,
     "metadata": {},
     "output_type": "execute_result"
    }
   ],
   "source": [
    "house_data['Predicted_Price'] = house_data['area'].apply(\n",
    "    lambda area : house_price(\n",
    "        area=area,\n",
    "        per_score_price=per_score_price,\n",
    "        registration_cost=registration_cost\n",
    "    )\n",
    ")\n",
    "\n",
    "house_data.head()"
   ]
  },
  {
   "cell_type": "markdown",
   "id": "fac885ea",
   "metadata": {},
   "source": [
    "### Step-4: Compaire Actual result to predicted result by Plot"
   ]
  },
  {
   "cell_type": "code",
   "execution_count": 73,
   "id": "1b0b9d74",
   "metadata": {},
   "outputs": [
    {
     "data": {
      "text/html": [
       "<div>\n",
       "<style scoped>\n",
       "    .dataframe tbody tr th:only-of-type {\n",
       "        vertical-align: middle;\n",
       "    }\n",
       "\n",
       "    .dataframe tbody tr th {\n",
       "        vertical-align: top;\n",
       "    }\n",
       "\n",
       "    .dataframe thead th {\n",
       "        text-align: right;\n",
       "    }\n",
       "</style>\n",
       "<table border=\"1\" class=\"dataframe\">\n",
       "  <thead>\n",
       "    <tr style=\"text-align: right;\">\n",
       "      <th></th>\n",
       "      <th>area</th>\n",
       "      <th>price</th>\n",
       "      <th>Predicted_Price</th>\n",
       "    </tr>\n",
       "  </thead>\n",
       "  <tbody>\n",
       "    <tr>\n",
       "      <th>0</th>\n",
       "      <td>7420</td>\n",
       "      <td>13300000</td>\n",
       "      <td>y_true</td>\n",
       "    </tr>\n",
       "    <tr>\n",
       "      <th>1</th>\n",
       "      <td>7420</td>\n",
       "      <td>3599717366</td>\n",
       "      <td>y_predict</td>\n",
       "    </tr>\n",
       "    <tr>\n",
       "      <th>2</th>\n",
       "      <td>8960</td>\n",
       "      <td>12250000</td>\n",
       "      <td>y_true</td>\n",
       "    </tr>\n",
       "    <tr>\n",
       "      <th>3</th>\n",
       "      <td>8960</td>\n",
       "      <td>4346628146</td>\n",
       "      <td>y_predict</td>\n",
       "    </tr>\n",
       "    <tr>\n",
       "      <th>4</th>\n",
       "      <td>9960</td>\n",
       "      <td>12250000</td>\n",
       "      <td>y_true</td>\n",
       "    </tr>\n",
       "  </tbody>\n",
       "</table>\n",
       "</div>"
      ],
      "text/plain": [
       "   area       price Predicted_Price\n",
       "0  7420    13300000          y_true\n",
       "1  7420  3599717366       y_predict\n",
       "2  8960    12250000          y_true\n",
       "3  8960  4346628146       y_predict\n",
       "4  9960    12250000          y_true"
      ]
     },
     "execution_count": 73,
     "metadata": {},
     "output_type": "execute_result"
    }
   ],
   "source": [
    "x = []\n",
    "y = [] \n",
    "y_true = []\n",
    "\n",
    "for i in range(len(house_data)):\n",
    "    x.append(house_data['area'].iloc[i])\n",
    "    y.append(house_data['price'].iloc[i])\n",
    "    y_true.append('y_true')\n",
    "\n",
    "    x.append(house_data['area'].iloc[i])\n",
    "    y.append(house_data['Predicted_Price'].iloc[i])\n",
    "    y_true.append('y_predict')\n",
    "\n",
    "house_data = pd.DataFrame({\n",
    "    'area':np.array(x),\n",
    "    'price':np.array(y),\n",
    "    'Predicted_Price':np.array(y_true)\n",
    "})\n",
    "\n",
    "house_data.head()"
   ]
  },
  {
   "cell_type": "code",
   "execution_count": 74,
   "id": "02c43704",
   "metadata": {},
   "outputs": [],
   "source": [
    "import seaborn as sns\n"
   ]
  },
  {
   "cell_type": "code",
   "execution_count": 75,
   "id": "e56d4414",
   "metadata": {},
   "outputs": [
    {
     "data": {
      "text/plain": [
       "<seaborn.axisgrid.FacetGrid at 0x2935a0e2420>"
      ]
     },
     "execution_count": 75,
     "metadata": {},
     "output_type": "execute_result"
    },
    {
     "data": {
      "image/png": "[encoded data removed]",
      "text/plain": [
       "<Figure size 500x500 with 1 Axes>"
      ]
     },
     "metadata": {},
     "output_type": "display_data"
    }
   ],
   "source": [
    "sns.displot(\n",
    "    data=house_data.query(\"Predicted_Price == 'y_true'\"),\n",
    "    x='price',\n",
    "    kind='kde',\n",
    "    fill=True\n",
    ")"
   ]
  },
  {
   "cell_type": "code",
   "execution_count": 76,
   "id": "f38b7fa4",
   "metadata": {},
   "outputs": [
    {
     "data": {
      "text/plain": [
       "<seaborn.axisgrid.FacetGrid at 0x2935a1fede0>"
      ]
     },
     "execution_count": 76,
     "metadata": {},
     "output_type": "execute_result"
    },
    {
     "data": {
      "image/png": "[encoded data removed]",
      "text/plain": [
       "<Figure size 500x500 with 1 Axes>"
      ]
     },
     "metadata": {},
     "output_type": "display_data"
    }
   ],
   "source": [
    "sns.displot(\n",
    "    data=house_data.query(\"Predicted_Price == 'y_predict'\"),\n",
    "    x='price',\n",
    "    kind='kde',\n",
    "    fill=True\n",
    ")"
   ]
  },
  {
   "cell_type": "code",
   "execution_count": 77,
   "id": "2c057f7f",
   "metadata": {},
   "outputs": [
    {
     "name": "stdout",
     "output_type": "stream",
     "text": [
      "0.066338010558068\n"
     ]
    }
   ],
   "source": [
    "''' KL Divergence '''\n",
    "from scipy.stats import entropy\n",
    "\n",
    "\n",
    "def Calculate_KL_Divergence(house_data, small_num=1e-10, max_Divergence=1e6):\n",
    "    y_predict = house_data[house_data['Predicted_Price'] == 'y_predict']['price'].values\n",
    "    y_true = house_data[house_data['Predicted_Price'] == 'y_true']['price'].values\n",
    "\n",
    "    y_predict_prob = y_predict / np.sum(y_predict)\n",
    "    y_true_prob = y_true / np.sum(y_true)\n",
    "\n",
    "    y_predict_prob = np.clip(y_predict_prob, small_num, 1)\n",
    "    y_true_prob = np.clip(y_true_prob, small_num, 1)\n",
    "\n",
    "    KL_divergence = entropy(y_predict_prob, y_true_prob)\n",
    "\n",
    "    if np.isinf(KL_divergence):\n",
    "        KL_divergence = max_Divergence\n",
    "\n",
    "    return KL_divergence\n",
    "\n",
    "KL_Divergence = Calculate_KL_Divergence(house_data)\n",
    "\n",
    "print(KL_Divergence)"
   ]
  }
 ],
 "metadata": {
  "kernelspec": {
   "display_name": "Python 3",
   "language": "python",
   "name": "python3"
  },
  "language_info": {
   "codemirror_mode": {
    "name": "ipython",
    "version": 3
   },
   "file_extension": ".py",
   "mimetype": "text/x-python",
   "name": "python",
   "nbconvert_exporter": "python",
   "pygments_lexer": "ipython3",
   "version": "3.12.3"
  }
 },
 "nbformat": 4,
 "nbformat_minor": 5
}
