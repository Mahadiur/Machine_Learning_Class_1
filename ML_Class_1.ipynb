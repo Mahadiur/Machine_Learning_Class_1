{
 "cells": [
  {
   "cell_type": "markdown",
   "id": "a7a249b3",
   "metadata": {},
   "source": [
    "### Machine Learning Class 1"
   ]
  },
  {
   "cell_type": "code",
   "execution_count": 1,
   "id": "64c6662f",
   "metadata": {},
   "outputs": [],
   "source": [
    "''' Import all library '''\n",
    "import pandas as pd\n",
    "import numpy as np\n",
    "import os "
   ]
  },
  {
   "cell_type": "code",
   "execution_count": 2,
   "id": "6051a906",
   "metadata": {},
   "outputs": [
    {
     "data": {
      "text/html": [
       "<div>\n",
       "<style scoped>\n",
       "    .dataframe tbody tr th:only-of-type {\n",
       "        vertical-align: middle;\n",
       "    }\n",
       "\n",
       "    .dataframe tbody tr th {\n",
       "        vertical-align: top;\n",
       "    }\n",
       "\n",
       "    .dataframe thead th {\n",
       "        text-align: right;\n",
       "    }\n",
       "</style>\n",
       "<table border=\"1\" class=\"dataframe\">\n",
       "  <thead>\n",
       "    <tr style=\"text-align: right;\">\n",
       "      <th></th>\n",
       "      <th>area</th>\n",
       "      <th>price</th>\n",
       "    </tr>\n",
       "  </thead>\n",
       "  <tbody>\n",
       "    <tr>\n",
       "      <th>0</th>\n",
       "      <td>7420</td>\n",
       "      <td>13300000</td>\n",
       "    </tr>\n",
       "    <tr>\n",
       "      <th>1</th>\n",
       "      <td>8960</td>\n",
       "      <td>12250000</td>\n",
       "    </tr>\n",
       "    <tr>\n",
       "      <th>2</th>\n",
       "      <td>9960</td>\n",
       "      <td>12250000</td>\n",
       "    </tr>\n",
       "    <tr>\n",
       "      <th>3</th>\n",
       "      <td>7500</td>\n",
       "      <td>12215000</td>\n",
       "    </tr>\n",
       "    <tr>\n",
       "      <th>4</th>\n",
       "      <td>7420</td>\n",
       "      <td>11410000</td>\n",
       "    </tr>\n",
       "  </tbody>\n",
       "</table>\n",
       "</div>"
      ],
      "text/plain": [
       "   area     price\n",
       "0  7420  13300000\n",
       "1  8960  12250000\n",
       "2  9960  12250000\n",
       "3  7500  12215000\n",
       "4  7420  11410000"
      ]
     },
     "execution_count": 2,
     "metadata": {},
     "output_type": "execute_result"
    }
   ],
   "source": [
    "''' Dataset Path '''\n",
    "\n",
    "Root_Path = 'C:\\\\Users\\\\mdmes\\\\OneDrive\\\\Desktop\\\\Pandas Data'\n",
    "Data_Path = os.path.join(Root_Path, 'house_data.csv')\n",
    "\n",
    "house_data=pd.read_csv(\n",
    "    Data_Path \n",
    ")\n",
    "\n",
    "house_data.head()"
   ]
  },
  {
   "cell_type": "markdown",
   "id": "b1dfac82",
   "metadata": {},
   "source": [
    "### Step-1: Parameter / Weight initialization"
   ]
  },
  {
   "cell_type": "code",
   "execution_count": 3,
   "id": "7a86b0f2",
   "metadata": {},
   "outputs": [
    {
     "name": "stdout",
     "output_type": "stream",
     "text": [
      "972232\n",
      "364154\n"
     ]
    }
   ],
   "source": [
    "per_score_price = np.random.randint(1,1000000)\n",
    "registration_cost = np.random.randint(1,1000000)\n",
    "\n",
    "print(per_score_price)\n",
    "print(registration_cost)"
   ]
  },
  {
   "cell_type": "markdown",
   "id": "21d848bb",
   "metadata": {},
   "source": [
    "### Step-2: Define ML Algoritham"
   ]
  },
  {
   "cell_type": "code",
   "execution_count": 4,
   "id": "1a6263f8",
   "metadata": {},
   "outputs": [
    {
     "data": {
      "text/plain": [
       "7214325594"
      ]
     },
     "execution_count": 4,
     "metadata": {},
     "output_type": "execute_result"
    }
   ],
   "source": [
    "def house_price(area, per_score_price, registration_cost):\n",
    "    predict_price = (area * per_score_price) + registration_cost\n",
    "    return predict_price\n",
    "\n",
    "house_price(\n",
    "    area=7420,\n",
    "    per_score_price=per_score_price,\n",
    "    registration_cost=registration_cost\n",
    ")"
   ]
  },
  {
   "cell_type": "markdown",
   "id": "9ccd97f4",
   "metadata": {},
   "source": [
    "### Step-3: Predict the result"
   ]
  },
  {
   "cell_type": "code",
   "execution_count": 5,
   "id": "3680e31b",
   "metadata": {},
   "outputs": [
    {
     "data": {
      "text/html": [
       "<div>\n",
       "<style scoped>\n",
       "    .dataframe tbody tr th:only-of-type {\n",
       "        vertical-align: middle;\n",
       "    }\n",
       "\n",
       "    .dataframe tbody tr th {\n",
       "        vertical-align: top;\n",
       "    }\n",
       "\n",
       "    .dataframe thead th {\n",
       "        text-align: right;\n",
       "    }\n",
       "</style>\n",
       "<table border=\"1\" class=\"dataframe\">\n",
       "  <thead>\n",
       "    <tr style=\"text-align: right;\">\n",
       "      <th></th>\n",
       "      <th>area</th>\n",
       "      <th>price</th>\n",
       "      <th>Predicted_Price</th>\n",
       "    </tr>\n",
       "  </thead>\n",
       "  <tbody>\n",
       "    <tr>\n",
       "      <th>0</th>\n",
       "      <td>7420</td>\n",
       "      <td>13300000</td>\n",
       "      <td>7214325594</td>\n",
       "    </tr>\n",
       "    <tr>\n",
       "      <th>1</th>\n",
       "      <td>8960</td>\n",
       "      <td>12250000</td>\n",
       "      <td>8711562874</td>\n",
       "    </tr>\n",
       "    <tr>\n",
       "      <th>2</th>\n",
       "      <td>9960</td>\n",
       "      <td>12250000</td>\n",
       "      <td>9683794874</td>\n",
       "    </tr>\n",
       "    <tr>\n",
       "      <th>3</th>\n",
       "      <td>7500</td>\n",
       "      <td>12215000</td>\n",
       "      <td>7292104154</td>\n",
       "    </tr>\n",
       "    <tr>\n",
       "      <th>4</th>\n",
       "      <td>7420</td>\n",
       "      <td>11410000</td>\n",
       "      <td>7214325594</td>\n",
       "    </tr>\n",
       "  </tbody>\n",
       "</table>\n",
       "</div>"
      ],
      "text/plain": [
       "   area     price  Predicted_Price\n",
       "0  7420  13300000       7214325594\n",
       "1  8960  12250000       8711562874\n",
       "2  9960  12250000       9683794874\n",
       "3  7500  12215000       7292104154\n",
       "4  7420  11410000       7214325594"
      ]
     },
     "execution_count": 5,
     "metadata": {},
     "output_type": "execute_result"
    }
   ],
   "source": [
    "house_data['Predicted_Price'] = house_data['area'].apply(\n",
    "    lambda area : house_price(\n",
    "        area=area,\n",
    "        per_score_price=per_score_price,\n",
    "        registration_cost=registration_cost\n",
    "    )\n",
    ")\n",
    "\n",
    "house_data.head()"
   ]
  },
  {
   "cell_type": "markdown",
   "id": "fac885ea",
   "metadata": {},
   "source": [
    "### Step-4: Compaire Actual result to predicted result by Plot"
   ]
  },
  {
   "cell_type": "code",
   "execution_count": 6,
   "id": "1b0b9d74",
   "metadata": {},
   "outputs": [
    {
     "data": {
      "text/html": [
       "<div>\n",
       "<style scoped>\n",
       "    .dataframe tbody tr th:only-of-type {\n",
       "        vertical-align: middle;\n",
       "    }\n",
       "\n",
       "    .dataframe tbody tr th {\n",
       "        vertical-align: top;\n",
       "    }\n",
       "\n",
       "    .dataframe thead th {\n",
       "        text-align: right;\n",
       "    }\n",
       "</style>\n",
       "<table border=\"1\" class=\"dataframe\">\n",
       "  <thead>\n",
       "    <tr style=\"text-align: right;\">\n",
       "      <th></th>\n",
       "      <th>area</th>\n",
       "      <th>price</th>\n",
       "      <th>Predicted_Price</th>\n",
       "    </tr>\n",
       "  </thead>\n",
       "  <tbody>\n",
       "    <tr>\n",
       "      <th>0</th>\n",
       "      <td>7420</td>\n",
       "      <td>13300000</td>\n",
       "      <td>y-True</td>\n",
       "    </tr>\n",
       "    <tr>\n",
       "      <th>1</th>\n",
       "      <td>7420</td>\n",
       "      <td>7214325594</td>\n",
       "      <td>y_predict</td>\n",
       "    </tr>\n",
       "    <tr>\n",
       "      <th>2</th>\n",
       "      <td>8960</td>\n",
       "      <td>12250000</td>\n",
       "      <td>y-True</td>\n",
       "    </tr>\n",
       "    <tr>\n",
       "      <th>3</th>\n",
       "      <td>8960</td>\n",
       "      <td>8711562874</td>\n",
       "      <td>y_predict</td>\n",
       "    </tr>\n",
       "    <tr>\n",
       "      <th>4</th>\n",
       "      <td>9960</td>\n",
       "      <td>12250000</td>\n",
       "      <td>y-True</td>\n",
       "    </tr>\n",
       "  </tbody>\n",
       "</table>\n",
       "</div>"
      ],
      "text/plain": [
       "   area       price Predicted_Price\n",
       "0  7420    13300000          y-True\n",
       "1  7420  7214325594       y_predict\n",
       "2  8960    12250000          y-True\n",
       "3  8960  8711562874       y_predict\n",
       "4  9960    12250000          y-True"
      ]
     },
     "execution_count": 6,
     "metadata": {},
     "output_type": "execute_result"
    }
   ],
   "source": [
    "x = []\n",
    "y = [] \n",
    "y_true = []\n",
    "\n",
    "for i in range(len(house_data)):\n",
    "    x.append(house_data['area'].iloc[i])\n",
    "    y.append(house_data['price'].iloc[i])\n",
    "    y_true.append('y-True')\n",
    "\n",
    "    x.append(house_data['area'].iloc[i])\n",
    "    y.append(house_data['Predicted_Price'].iloc[i])\n",
    "    y_true.append('y_predict')\n",
    "\n",
    "house_data = pd.DataFrame({\n",
    "    'area':np.array(x),\n",
    "    'price':np.array(y),\n",
    "    'Predicted_Price':np.array(y_true)\n",
    "})\n",
    "\n",
    "house_data.head()"
   ]
  },
  {
   "cell_type": "code",
   "execution_count": 7,
   "id": "02c43704",
   "metadata": {},
   "outputs": [],
   "source": [
    "import seaborn as sns\n"
   ]
  },
  {
   "cell_type": "code",
   "execution_count": 8,
   "id": "e56d4414",
   "metadata": {},
   "outputs": [
    {
     "name": "stderr",
     "output_type": "stream",
     "text": [
      "C:\\Users\\mdmes\\AppData\\Local\\Temp\\ipykernel_10528\\3597278603.py:1: UserWarning: Dataset has 0 variance; skipping density estimate. Pass `warn_singular=False` to disable this warning.\n",
      "  sns.displot(\n"
     ]
    },
    {
     "data": {
      "text/plain": [
       "<seaborn.axisgrid.FacetGrid at 0x1d2e91cb620>"
      ]
     },
     "execution_count": 8,
     "metadata": {},
     "output_type": "execute_result"
    },
    {
     "data": {
      "image/png": "[encoded data removed]",
      "text/plain": [
       "<Figure size 500x500 with 1 Axes>"
      ]
     },
     "metadata": {},
     "output_type": "display_data"
    }
   ],
   "source": [
    "sns.displot(\n",
    "    data=house_data.query(\"Predicted_Price == 'y_true'\"),\n",
    "    x='price',\n",
    "    kind='kde',\n",
    "    fill=True\n",
    ")"
   ]
  },
  {
   "cell_type": "code",
   "execution_count": 9,
   "id": "f38b7fa4",
   "metadata": {},
   "outputs": [
    {
     "data": {
      "text/plain": [
       "<seaborn.axisgrid.FacetGrid at 0x1d2e9621a60>"
      ]
     },
     "execution_count": 9,
     "metadata": {},
     "output_type": "execute_result"
    },
    {
     "data": {
      "image/png": "[encoded data removed]",
      "text/plain": [
       "<Figure size 500x500 with 1 Axes>"
      ]
     },
     "metadata": {},
     "output_type": "display_data"
    }
   ],
   "source": [
    "sns.displot(\n",
    "    data=house_data.query(\"Predicted_Price == 'y_predict'\"),\n",
    "    x='price',\n",
    "    kind='kde',\n",
    "    fill=True\n",
    ")"
   ]
  },
  {
   "cell_type": "code",
   "execution_count": 12,
   "id": "2c057f7f",
   "metadata": {},
   "outputs": [
    {
     "data": {
      "text/plain": [
       "' KL Divergence '"
      ]
     },
     "execution_count": 12,
     "metadata": {},
     "output_type": "execute_result"
    }
   ],
   "source": [
    "''' KL Divergence '''\n"
   ]
  }
 ],
 "metadata": {
  "kernelspec": {
   "display_name": "Python 3",
   "language": "python",
   "name": "python3"
  },
  "language_info": {
   "codemirror_mode": {
    "name": "ipython",
    "version": 3
   },
   "file_extension": ".py",
   "mimetype": "text/x-python",
   "name": "python",
   "nbconvert_exporter": "python",
   "pygments_lexer": "ipython3",
   "version": "3.12.3"
  }
 },
 "nbformat": 4,
 "nbformat_minor": 5
}
